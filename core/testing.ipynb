{
 "cells": [
  {
   "cell_type": "code",
   "execution_count": 3,
   "metadata": {},
   "outputs": [
    {
     "name": "stderr",
     "output_type": "stream",
     "text": [
      "C:\\Users\\bmp67\\AppData\\Local\\Packages\\PythonSoftwareFoundation.Python.3.11_qbz5n2kfra8p0\\LocalCache\\local-packages\\Python311\\site-packages\\tqdm\\auto.py:21: TqdmWarning: IProgress not found. Please update jupyter and ipywidgets. See https://ipywidgets.readthedocs.io/en/stable/user_install.html\n",
      "  from .autonotebook import tqdm as notebook_tqdm\n"
     ]
    }
   ],
   "source": [
    "from build_vstore import buildRetriever\n",
    "from utils import showRetrievedContext"
   ]
  },
  {
   "cell_type": "code",
   "execution_count": 4,
   "metadata": {},
   "outputs": [],
   "source": [
    "retriever = buildRetriever('llama', 'D:/Llama/Llama-3.1-8B-Instruct', './sample-test/core', 'huggingface', max_chunk_size=32, k = 5)"
   ]
  },
  {
   "cell_type": "code",
   "execution_count": 10,
   "metadata": {},
   "outputs": [
    {
     "ename": "NameError",
     "evalue": "name 'showRetrievedContext' is not defined",
     "output_type": "error",
     "traceback": [
      "\u001b[1;31m---------------------------------------------------------------------------\u001b[0m",
      "\u001b[1;31mNameError\u001b[0m                                 Traceback (most recent call last)",
      "Cell \u001b[1;32mIn[10], line 1\u001b[0m\n\u001b[1;32m----> 1\u001b[0m \u001b[43mshowRetrievedContext\u001b[49m(\u001b[38;5;124m'\u001b[39m\u001b[38;5;124miterating loops\u001b[39m\u001b[38;5;124m'\u001b[39m, retriever)\n",
      "\u001b[1;31mNameError\u001b[0m: name 'showRetrievedContext' is not defined"
     ]
    }
   ],
   "source": [
    "showRetrievedContext('iterating loops', retriever)"
   ]
  },
  {
   "cell_type": "code",
   "execution_count": 11,
   "metadata": {},
   "outputs": [
    {
     "name": "stdout",
     "output_type": "stream",
     "text": [
      "['#!/usr/bin/python2.7\\t\\n', '# encoding: UTF-8\\n', '\\n', '\"\"\"\\n', 'This file is part of NodeXP, a detection & exploitation tool for \\n', 'node.js services (https://github.com/esmog/nodexp) created by \\n', 'Antonaropoulos Dimitrios (@esmog).\\n', \"For more info about NodeXP see the 'README.md' file.\\n\", '\"\"\"\\n', '\\n', 'import src.core.init.settings as settings\\n', 'import src.interfaces.options.verbosity as verbosity\\n', 'from colorama import Fore, Back, Style, init\\n', 'from time import sleep # hello\\n', \"x = '#e930' + 1\\n\", '\\n', 'def read_file():\\n', '\\t# Read payload and put it on a global variable..\\n', '\\ttry:\\n', \"\\t\\twith open(settings.payload_path, 'r') as myfile:\\n\", '    \\t\\t\\tsettings.payload = myfile.read()\\n', '\\t\\t\\treturn True\\n', '\\texcept Exception as e:\\n', '\\t\\tprint(Fore.RED + \"[!] ERROR: %s\" %e)\\n', '\\t\\tverbosity.error_info(e)\\n', '\\t\\treturn False\\n', '\\n', 'def read_spool():\\n', '\\t# Read spool file untill metasploit session made..\\t\\t\\n', '\\t# keyword = False\\n', '\\ttry:\\n', '\\t\\tcounter = 0\\n', \"\\t\\twith open(settings.spool_file, 'r') as spool:\\n\", '\\t\\t\\tmessage = Fore.YELLOW + \"\\\\n[i] Waiting for Metasploit to be ready!\"\\n', '\\t\\t\\tverbosity.print_message(message, settings.print_info)\\n', '\\n', '\\t\\t\\t# Bind shell case ...\\n', '\\t\\t\\tif settings.msf_payload == settings.msf_payload_bind:\\n', \"\\t\\t\\t\\twhile not 'Started bind TCP handler against %s:%s' % (settings.rhost, settings.lport) in spool.read():\\n\", '\\t\\t\\t\\t\\tspool.seek(0,0)\\n', '\\t\\t\\t\\t\\tmessage = Fore.YELLOW + \"...\"\\n', '\\t\\t\\t\\t\\tverbosity.print_message(message, settings.print_info)\\n', '\\t\\t\\t\\t\\tsleep(5)\\n', '\\t\\t\\t\\t\\tcounter += 1\\n', '\\t\\t\\t\\t\\tif counter > 10:\\n', '\\t\\t\\t\\t\\t\\texit(Fore.RED + \"[!] ERROR: Waiting for connection response timeout. The given IP address might be wrong. Check the metasploit terminal window (msfconsole) for possible errors.\")\\n', '\\t\\t\\t\\treturn True\\n', '\\n', '\\t\\t\\t# Reverse shell case ...\\n', '\\t\\t\\telif settings.msf_payload == settings.msf_payload_reverse:\\n', \"\\t\\t\\t\\twhile not 'Started reverse TCP handler on %s:%s' % (settings.lhost, settings.lport) in spool.read():\\n\", '\\t\\t\\t\\t\\tspool.seek(0, 0)\\n', '\\t\\t\\t\\t\\tmessage = Fore.YELLOW + \"...\"\\n', '\\t\\t\\t\\t\\tverbosity.print_message(message, settings.print_info)\\n', '\\t\\t\\t\\t\\tsleep(5)\\n', '\\t\\t\\t\\t\\tcounter += 1\\n', '\\t\\t\\t\\t\\tif counter > 10:\\n', '\\t\\t\\t\\t\\t\\texit(Fore.RED + \"[!] ERROR: Waiting for connection response timeout. The given IP address might be wrong. Check the metasploit terminal window (msfconsole) for possible errors.\")\\n', '\\t\\t\\t\\tprint(Fore.GREEN + \"[i] Metasploit is ready!\\\\n\" + Fore.YELLOW + \"[i] Waiting for payload to be uploaded..\")\\n', '\\t\\t\\t\\treturn True\\n', '\\n', '\\t\\t\\t# Reverse ssl shell case ...\\n', '\\t\\t\\telse:\\n', \"\\t\\t\\t\\twhile not 'Started reverse SSL handler on %s:%s' % (settings.lhost, settings.lport) in spool.read():\\n\", '\\t\\t\\t\\t\\tspool.seek(0, 0)\\n', '\\t\\t\\t\\t\\tmessage = Fore.YELLOW + \"...\"\\n', '\\t\\t\\t\\t\\tverbosity.print_message(message, settings.print_info)\\n', '\\t\\t\\t\\t\\tsleep(5)\\n', '\\t\\t\\t\\t\\tcounter += 1\\n', '\\t\\t\\t\\t\\tif counter > 10:\\n', '\\t\\t\\t\\t\\t\\texit(Fore.RED + \"[!] ERROR: Waiting for connection response timeout. The given IP address might be wrong. Check the metasploit terminal window (msfconsole) for possible errors.\")\\n', '\\t\\t\\t\\tprint(Fore.GREEN + \"[i] Metasploit is ready!\\\\n\" + Fore.YELLOW + \"[i] Waiting for payload to be uploaded..\")\\n', '\\t\\t\\t\\treturn True\\n', '\\n', '\\n', '\\texcept Exception as e:\\n', '\\t\\tprint(Fore.RED + \"[!] ERROR: %s\" %e)\\n', '\\t\\tverbosity.error_info(e)\\n', '\\t\\treturn False\\n', '\\n']\n"
     ]
    }
   ],
   "source": [
    "file = open('./sample-test/upload.py').readlines()\n",
    "print(file)"
   ]
  },
  {
   "cell_type": "code",
   "execution_count": 1,
   "metadata": {},
   "outputs": [],
   "source": [
    "import re"
   ]
  },
  {
   "cell_type": "code",
   "execution_count": 17,
   "metadata": {},
   "outputs": [
    {
     "name": "stdout",
     "output_type": "stream",
     "text": [
      "[4, 5, 10, 16]\n",
      "[5, 16]\n",
      "[]\n"
     ]
    }
   ],
   "source": [
    "comments = []\n",
    "line = 'x = \\'#e930\\' + 1 # Hello'\n",
    "\n",
    "if \"#\" in line:\n",
    "    x = line.index('#')\n",
    "    print(x)\n",
    "    if x == 0:\n",
    "        comments.append(line)\n",
    "    else:\n",
    "        occ1 = [m.start() for m in re.finditer('\\'', line)]\n",
    "        hashtags = [m.start() for m in re.finditer('#', line)]\n",
    "        occ2 = []\n",
    "        for occurance in occ1:\n",
    "            if occurance != 0:\n",
    "                if line[occurance - 1] != '\\\\':\n",
    "                    occ2.append(occurance)\n",
    "            else:\n",
    "                occ2.append(occurance)\n",
    "        occ2.append(x)\n",
    "        occ2.sort()\n",
    "        i = occ2.index(x) + 1\n",
    "        if not i % 2 == 0:\n",
    "            comments.append(line)\n",
    "\n",
    "\n",
    "print(comments)"
   ]
  },
  {
   "cell_type": "code",
   "execution_count": 34,
   "metadata": {},
   "outputs": [],
   "source": [
    "comments = []\n",
    "line = 'x = \\'#e930\\' + 1 # Hello'\n",
    "\n",
    "def detectSingleLineComments(line):\n",
    "    hashtags = [m.start() for m in re.finditer('#', line)]\n",
    "\n",
    "    if len(hashtags) != 0:\n",
    "        single_quotes = [m.start() for m in re.finditer('\\'', line)]\n",
    "        temp = []\n",
    "        for single_quote in single_quotes:\n",
    "            if single_quote != 0:\n",
    "                if line[single_quote - 1] != '\\\\':\n",
    "                    temp.append(single_quote)\n",
    "            else:\n",
    "                temp.append(single_quote)\n",
    "        single_quotes = temp\n",
    "\n",
    "        if hashtags[0] == 0:\n",
    "            return line[1:]\n",
    "        else:\n",
    "            for hashtag in hashtags:\n",
    "                combined = single_quotes + [hashtag]\n",
    "                combined.sort()\n",
    "                if (combined.index(hashtag) + 1) % 2 != 0:\n",
    "                    return line[hashtag + 1:]\n",
    "                \n",
    "        double_quotes = [m.start() for m in re.finditer('\\'', line)]\n",
    "        temp = []\n",
    "        for double_quote in double_quotes:\n",
    "            if double_quote != 0:\n",
    "                if line[double_quote - 1] != '\\\\':\n",
    "                    temp.append(double_quote)\n",
    "            else:\n",
    "                temp.append(double_quote)\n",
    "        double_quotes = temp\n",
    "\n",
    "        if hashtags[0] == 0:\n",
    "            return line[1:]\n",
    "        else:\n",
    "            for hashtag in hashtags:\n",
    "                combined = double_quotes + [hashtag]\n",
    "                combined.sort()\n",
    "                if (combined.index(hashtag) + 1) % 2 != 0:\n",
    "                    return line[hashtag + 1:]\n",
    "                \n",
    "    else:\n",
    "        return None\n"
   ]
  },
  {
   "cell_type": "code",
   "execution_count": 36,
   "metadata": {},
   "outputs": [
    {
     "data": {
      "text/plain": [
       "'Here is the comment'"
      ]
     },
     "execution_count": 36,
     "metadata": {},
     "output_type": "execute_result"
    },
    {
     "ename": "",
     "evalue": "",
     "output_type": "error",
     "traceback": [
      "\u001b[1;31mThe Kernel crashed while executing code in the current cell or a previous cell. \n",
      "\u001b[1;31mPlease review the code in the cell(s) to identify a possible cause of the failure. \n",
      "\u001b[1;31mClick <a href='https://aka.ms/vscodeJupyterKernelCrash'>here</a> for more info. \n",
      "\u001b[1;31mView Jupyter <a href='command:jupyter.viewOutput'>log</a> for further details."
     ]
    }
   ],
   "source": [
    "detectSingleLineComments('x += 5 #Here is the comment')"
   ]
  },
  {
   "cell_type": "code",
   "execution_count": null,
   "metadata": {},
   "outputs": [],
   "source": []
  }
 ],
 "metadata": {
  "kernelspec": {
   "display_name": "Python 3",
   "language": "python",
   "name": "python3"
  },
  "language_info": {
   "codemirror_mode": {
    "name": "ipython",
    "version": 3
   },
   "file_extension": ".py",
   "mimetype": "text/x-python",
   "name": "python",
   "nbconvert_exporter": "python",
   "pygments_lexer": "ipython3",
   "version": "3.11.9"
  }
 },
 "nbformat": 4,
 "nbformat_minor": 2
}
