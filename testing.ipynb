{
 "cells": [
  {
   "cell_type": "code",
   "execution_count": 17,
   "metadata": {},
   "outputs": [],
   "source": [
    "from llama_index.core import SimpleDirectoryReader, VectorStoreIndex\n",
    "from llama_index.core import Settings\n",
    "from llama_index.embeddings import huggingface\n",
    "from llama_index.embeddings import ollama\n",
    "from llama_index.core.node_parser import SentenceSplitter\n",
    "from llama_index.readers import string_iterable"
   ]
  },
  {
   "cell_type": "code",
   "execution_count": 18,
   "metadata": {},
   "outputs": [
    {
     "data": {
      "text/plain": [
       "[Document(id_='de6fb428-09cb-4c1a-b855-b95d9dd12b68', embedding=[-0.039828501641750336, 0.007282549515366554, 0.03681318089365959, 0.009507840499281883, -0.03212300315499306, 0.0004663578874897212, 0.00314717972651124, 0.017604822292923927, 0.03775419667363167, -0.010618957690894604, 0.011281098239123821, -0.036214184015989304, 0.02962157316505909, 0.012785438448190689, 0.04127095267176628, -0.018035609275102615, 0.031251661479473114, -0.0013516619801521301, -0.07298456877470016, 0.0018820841796696186, 0.037430111318826675, -0.03159727901220322, -0.01930209994316101, -0.030388273298740387, -0.033229805529117584, 0.030663732439279556, -0.016769465059041977, -0.0019535040482878685, -0.04743920639157295, -0.12620986998081207, 0.01842094399034977, -0.02760244347155094, 0.04035535082221031, 0.024524347856640816, 0.01098970789462328, -0.033977311104536057, -0.04103497043251991, 0.03671407327055931, -0.02588316611945629, 0.017124952748417854, 0.04364418238401413, -0.0071052126586437225, -0.01011986006051302, -0.032702598720788956, -0.0009444376919418573, -0.04666311293840408, -0.004814814776182175, 0.004140870645642281, 0.0977814719080925, -0.012960350140929222, -0.06570732593536377, -0.0469343438744545, 0.025691131129860878, 0.007535186596214771, 0.014292779378592968, 0.01970129832625389, 0.051282234489917755, 0.01398383267223835, 0.03926744684576988, 0.0049548023380339146, 0.004909163806587458, 0.005246405489742756, -0.20426547527313232, 0.06296712160110474, 0.05735228210687637, -0.03247416019439697, -0.020747199654579163, -0.0017384558450430632, -0.014971158467233181, 0.01189133059233427, -0.035266537219285965, 0.029019024223089218, 0.04596492275595665, 0.07918629795312881, 0.009869254194200039, 0.024243498221039772, -0.011614786460995674, -0.045086950063705444, 0.00787686463445425, 0.034423619508743286, 0.0011786193354055285, -0.018345512449741364, -0.0558246485888958, -0.03345789387822151, -0.022361785173416138, -0.05540146306157112, 0.0217275470495224, -0.002638057805597782, 0.03989114984869957, 0.006983814761042595, -0.020541667938232422, -0.0024245784152299166, -0.008194200694561005, 0.055573441088199615, -0.00044311481178738177, -0.04715561494231224, -0.021532030776143074, 0.04951956123113632, -0.059215180575847626, 0.5331602096557617, -0.0091690793633461, 0.05288722366094589, 0.054134514182806015, 0.002051144139841199, 0.03367722034454346, -0.007322990335524082, 0.003722216933965683, -0.05269363150000572, -0.019033098593354225, 0.04313516989350319, 0.0019428837113082409, 0.010113626718521118, 0.07752702385187149, -0.014324179850518703, 0.018925108015537262, 0.015113874338567257, 0.026056597009301186, 0.012969858944416046, -0.038772933185100555, 0.04588599130511284, -0.009237370453774929, -0.027027588337659836, 0.02220885641872883, -0.02766716480255127, 0.026126841083168983, -0.06358234584331512, -0.0013641805853694677, 0.10954736173152924, -0.00781471747905016, 0.08416489511728287, 0.0027622582856565714, 0.005027346312999725, -0.0011457940563559532, -0.025293290615081787, -0.010387484915554523, 0.000645386753603816, -0.03016534261405468, 0.017947951331734657, 0.008114182390272617, -0.06722191721200943, -0.08164022862911224, -0.11422839015722275, 0.013861716724932194, -0.08963914960622787, 0.014766398817300797, 0.05520099401473999, -0.014119883067905903, 0.016648313030600548, -0.013551931828260422, -0.004893176723271608, -0.032576512545347214, 0.0037040396127849817, 0.00497069489210844, -0.031188150867819786, -0.013314761221408844, -0.008305099792778492, 0.03734748065471649, 0.008653834462165833, -0.015554471872746944, -0.00664445711299777, -0.0228895153850317, -0.053796879947185516, -0.021414199844002724, 0.033363182097673416, -0.004149980377405882, -0.023574352264404297, -0.04244247451424599, -0.0078105442225933075, -0.02445010282099247, -0.02191798947751522, 0.020648982375860214, 0.034720368683338165, -0.014722299762070179, 0.018125977367162704, 0.08562964200973511, -0.007595589384436607, -0.013366508297622204, -0.008726848289370537, -0.03936878591775894, 0.020668165758252144, 0.05163688585162163, -0.004946161061525345, -0.02780887670814991, 0.037323884665966034, 0.0367252454161644, 0.0065454342402517796, -0.03609393537044525, -0.032860711216926575, 0.03841625154018402, 0.0011113369837403297, -0.045123253017663956, 0.00504897627979517, -0.05164692550897598, -0.0037880302406847477, -0.06514991074800491, -0.002488816389814019, 0.008538009598851204, -0.01057103555649519, -0.026399023830890656, -0.01992521435022354, 0.08867058902978897, -0.0027844144497066736, 0.014662745408713818, 0.014698673039674759, -0.014816497452557087, 0.02706848829984665, -0.03163609653711319, -0.0039239502511918545, 0.04668157547712326, 0.028951376676559448, -0.038162168115377426, -0.04367157444357872, 0.04413236677646637, -0.052334003150463104, 0.004240814596414566, -0.01023134496062994, 0.017618365585803986, 0.05145610496401787, 0.04463241621851921, 0.05030784010887146, -0.005283537320792675, -0.035046614706516266, -0.03935229405760765, -0.24280110001564026, 0.014154452830553055, 0.0008352134609594941, -0.006359734572470188, 0.030761325731873512, -0.06049998104572296, 0.03574248403310776, -0.0068488894030451775, 0.07011622190475464, 0.03745543584227562, 0.04587915539741516, -0.010282794013619423, -0.027831949293613434, 0.056495290249586105, -0.0321713387966156, -0.0019728634506464005, 0.023375079035758972, 0.028507811948657036, 0.006373885553330183, -0.009525596164166927, -0.0024065293837338686, -0.008274747058749199, 0.0212493184953928, -0.03967149555683136, -0.006253949832171202, 0.00022793626703787595, 0.1921028345823288, -0.010031666606664658, -0.01086010318249464, -0.053822364658117294, 0.02301119454205036, 0.05569436028599739, -0.0009641509386710823, -0.10865975171327591, 0.013131669722497463, 0.05124170705676079, 0.07137277722358704, -0.04496007040143013, 0.0022801996674388647, -0.01545983087271452, -0.031100763007998466, 0.029512740671634674, 0.0305346492677927, -0.037599846720695496, -0.03145477920770645, 0.00325295003131032, 0.0013104159152135253, 0.01929040439426899, -0.05752478167414665, -0.008302377536892891, 0.0283320564776659, -0.011075197719037533, 0.04557323828339577, -0.003644960932433605, 0.015123364515602589, -0.01698802039027214, -0.026279333978891373, -0.027990814298391342, -0.03227490559220314, 0.009200479835271835, 0.001999206840991974, 0.005953013896942139, 0.042436130344867706, -0.050667356699705124, 0.04620100557804108, 0.0015188936376944184, -0.036336757242679596, -0.012316173873841763, -0.007481426000595093, -0.008260739967226982, 0.01075274683535099, 0.025092992931604385, -0.0176653154194355, -0.02424744889140129, 0.07966995239257812, -0.0025068316608667374, -0.02442251145839691, 0.019439158961176872, 0.0051115634851157665, -0.011267982423305511, 0.022650383412837982, 8.422630344284698e-06, 0.023298002779483795, 0.015828022733330727, 0.008047022856771946, -0.003142903558909893, 0.05746433883905411, 0.007914848625659943, -0.0034783429000526667, -0.01886758953332901, 0.010424143634736538, 0.0276273712515831, -0.008023683913052082, 0.0034671220928430557, -0.005678287707269192, -0.034068673849105835, -0.3302863836288452, 0.059761665761470795, 0.010763302445411682, 0.015853578224778175, -0.023599067702889442, 0.02917439118027687, 0.00021040717547293752, -0.013931557536125183, -0.05632646754384041, 0.029231838881969452, 0.00040163288940675557, 0.01585695706307888, 0.01133774034678936, 4.739409632747993e-05, -0.03363625705242157, -0.009481011889874935, -0.0011766091920435429, -0.021491751074790955, 0.003972973674535751, -0.05870029702782631, -0.007284798193722963, 0.020794615149497986, 0.20524372160434723, -0.019400814548134804, 0.012170671485364437, 0.03586955741047859, -0.01779433712363243, 0.015099309384822845, 0.013616032898426056, -0.044095415621995926, -0.0007955192704685032, 0.014064328745007515, 0.03344985470175743, -0.032866790890693665, 0.03579305484890938, -0.0002986359177157283, -0.01580028422176838, 0.024949606508016586, 0.009117248468101025, -0.007988717406988144, 0.007712837774306536, 0.0375961996614933, -0.026459336280822754, -0.01502235047519207, 0.020706333220005035, -0.03529437258839607, -0.005371924955397844, -0.017933005467057228, 0.006005880888551474, 0.02560391277074814, 0.012194056063890457, -0.034856777638196945, -0.023536738008260727, 0.05858193710446358, 0.059384528547525406, 0.03293915465474129, -0.03323660045862198, 0.01316060870885849, -0.04560711234807968, -0.01847902499139309, -0.0033769002184271812, -0.051167696714401245, -0.031576916575431824, -0.026343945413827896, 0.0032099897507578135], metadata={}, excluded_embed_metadata_keys=[], excluded_llm_metadata_keys=[], relationships={}, metadata_template='{key}: {value}', metadata_separator='\\n', text='ello im mason slow', mimetype='text/plain', start_char_idx=None, end_char_idx=None, metadata_seperator='\\n', text_template='{metadata_str}\\n\\n{content}')]"
      ]
     },
     "execution_count": 18,
     "metadata": {},
     "output_type": "execute_result"
    }
   ],
   "source": [
    "documents = SimpleDirectoryReader(\"./sample-test\").load_data()\n",
    "embedding_model = huggingface.HuggingFaceEmbedding()\n",
    "\n",
    "embedding_model(string_iterable.StringIterableReader().load_data(texts=['ello im mason slow']))"
   ]
  },
  {
   "cell_type": "code",
   "execution_count": 15,
   "metadata": {},
   "outputs": [
    {
     "ename": "ValueError",
     "evalue": "\n******\nCould not load OpenAI embedding model. If you intended to use OpenAI, please check your OPENAI_API_KEY.\nOriginal error:\nNo API key found for OpenAI.\nPlease set either the OPENAI_API_KEY environment variable or openai.api_key prior to initialization.\nAPI keys can be found or created at https://platform.openai.com/account/api-keys\n\nConsider using embed_model='local'.\nVisit our documentation for more embedding options: https://docs.llamaindex.ai/en/stable/module_guides/models/embeddings.html#modules\n******",
     "output_type": "error",
     "traceback": [
      "\u001b[1;31m---------------------------------------------------------------------------\u001b[0m",
      "\u001b[1;31mValueError\u001b[0m                                Traceback (most recent call last)",
      "File \u001b[1;32m~\\AppData\\Local\\Packages\\PythonSoftwareFoundation.Python.3.11_qbz5n2kfra8p0\\LocalCache\\local-packages\\Python311\\site-packages\\llama_index\\core\\embeddings\\utils.py:59\u001b[0m, in \u001b[0;36mresolve_embed_model\u001b[1;34m(embed_model, callback_manager)\u001b[0m\n\u001b[0;32m     58\u001b[0m     embed_model \u001b[38;5;241m=\u001b[39m OpenAIEmbedding()\n\u001b[1;32m---> 59\u001b[0m     \u001b[43mvalidate_openai_api_key\u001b[49m\u001b[43m(\u001b[49m\u001b[43membed_model\u001b[49m\u001b[38;5;241;43m.\u001b[39;49m\u001b[43mapi_key\u001b[49m\u001b[43m)\u001b[49m  \u001b[38;5;66;03m# type: ignore\u001b[39;00m\n\u001b[0;32m     60\u001b[0m \u001b[38;5;28;01mexcept\u001b[39;00m \u001b[38;5;167;01mImportError\u001b[39;00m:\n",
      "File \u001b[1;32m~\\AppData\\Local\\Packages\\PythonSoftwareFoundation.Python.3.11_qbz5n2kfra8p0\\LocalCache\\local-packages\\Python311\\site-packages\\llama_index\\embeddings\\openai\\utils.py:103\u001b[0m, in \u001b[0;36mvalidate_openai_api_key\u001b[1;34m(api_key)\u001b[0m\n\u001b[0;32m    102\u001b[0m \u001b[38;5;28;01mif\u001b[39;00m \u001b[38;5;129;01mnot\u001b[39;00m openai_api_key:\n\u001b[1;32m--> 103\u001b[0m     \u001b[38;5;28;01mraise\u001b[39;00m \u001b[38;5;167;01mValueError\u001b[39;00m(MISSING_API_KEY_ERROR_MESSAGE)\n",
      "\u001b[1;31mValueError\u001b[0m: No API key found for OpenAI.\nPlease set either the OPENAI_API_KEY environment variable or openai.api_key prior to initialization.\nAPI keys can be found or created at https://platform.openai.com/account/api-keys\n",
      "\nDuring handling of the above exception, another exception occurred:\n",
      "\u001b[1;31mValueError\u001b[0m                                Traceback (most recent call last)",
      "Cell \u001b[1;32mIn[15], line 1\u001b[0m\n\u001b[1;32m----> 1\u001b[0m index \u001b[38;5;241m=\u001b[39m \u001b[43mVectorStoreIndex\u001b[49m\u001b[38;5;241;43m.\u001b[39;49m\u001b[43mfrom_documents\u001b[49m\u001b[43m(\u001b[49m\n\u001b[0;32m      2\u001b[0m \u001b[43m    \u001b[49m\u001b[43mdocuments\u001b[49m\u001b[43m,\u001b[49m\n\u001b[0;32m      3\u001b[0m \u001b[43m)\u001b[49m\n",
      "File \u001b[1;32m~\\AppData\\Local\\Packages\\PythonSoftwareFoundation.Python.3.11_qbz5n2kfra8p0\\LocalCache\\local-packages\\Python311\\site-packages\\llama_index\\core\\indices\\base.py:119\u001b[0m, in \u001b[0;36mBaseIndex.from_documents\u001b[1;34m(cls, documents, storage_context, show_progress, callback_manager, transformations, **kwargs)\u001b[0m\n\u001b[0;32m    110\u001b[0m     docstore\u001b[38;5;241m.\u001b[39mset_document_hash(doc\u001b[38;5;241m.\u001b[39mget_doc_id(), doc\u001b[38;5;241m.\u001b[39mhash)\n\u001b[0;32m    112\u001b[0m nodes \u001b[38;5;241m=\u001b[39m run_transformations(\n\u001b[0;32m    113\u001b[0m     documents,  \u001b[38;5;66;03m# type: ignore\u001b[39;00m\n\u001b[0;32m    114\u001b[0m     transformations,\n\u001b[0;32m    115\u001b[0m     show_progress\u001b[38;5;241m=\u001b[39mshow_progress,\n\u001b[0;32m    116\u001b[0m     \u001b[38;5;241m*\u001b[39m\u001b[38;5;241m*\u001b[39mkwargs,\n\u001b[0;32m    117\u001b[0m )\n\u001b[1;32m--> 119\u001b[0m \u001b[38;5;28;01mreturn\u001b[39;00m \u001b[38;5;28;43mcls\u001b[39;49m\u001b[43m(\u001b[49m\n\u001b[0;32m    120\u001b[0m \u001b[43m    \u001b[49m\u001b[43mnodes\u001b[49m\u001b[38;5;241;43m=\u001b[39;49m\u001b[43mnodes\u001b[49m\u001b[43m,\u001b[49m\n\u001b[0;32m    121\u001b[0m \u001b[43m    \u001b[49m\u001b[43mstorage_context\u001b[49m\u001b[38;5;241;43m=\u001b[39;49m\u001b[43mstorage_context\u001b[49m\u001b[43m,\u001b[49m\n\u001b[0;32m    122\u001b[0m \u001b[43m    \u001b[49m\u001b[43mcallback_manager\u001b[49m\u001b[38;5;241;43m=\u001b[39;49m\u001b[43mcallback_manager\u001b[49m\u001b[43m,\u001b[49m\n\u001b[0;32m    123\u001b[0m \u001b[43m    \u001b[49m\u001b[43mshow_progress\u001b[49m\u001b[38;5;241;43m=\u001b[39;49m\u001b[43mshow_progress\u001b[49m\u001b[43m,\u001b[49m\n\u001b[0;32m    124\u001b[0m \u001b[43m    \u001b[49m\u001b[43mtransformations\u001b[49m\u001b[38;5;241;43m=\u001b[39;49m\u001b[43mtransformations\u001b[49m\u001b[43m,\u001b[49m\n\u001b[0;32m    125\u001b[0m \u001b[43m    \u001b[49m\u001b[38;5;241;43m*\u001b[39;49m\u001b[38;5;241;43m*\u001b[39;49m\u001b[43mkwargs\u001b[49m\u001b[43m,\u001b[49m\n\u001b[0;32m    126\u001b[0m \u001b[43m\u001b[49m\u001b[43m)\u001b[49m\n",
      "File \u001b[1;32m~\\AppData\\Local\\Packages\\PythonSoftwareFoundation.Python.3.11_qbz5n2kfra8p0\\LocalCache\\local-packages\\Python311\\site-packages\\llama_index\\core\\indices\\vector_store\\base.py:72\u001b[0m, in \u001b[0;36mVectorStoreIndex.__init__\u001b[1;34m(self, nodes, use_async, store_nodes_override, embed_model, insert_batch_size, objects, index_struct, storage_context, callback_manager, transformations, show_progress, **kwargs)\u001b[0m\n\u001b[0;32m     67\u001b[0m \u001b[38;5;28mself\u001b[39m\u001b[38;5;241m.\u001b[39m_use_async \u001b[38;5;241m=\u001b[39m use_async\n\u001b[0;32m     68\u001b[0m \u001b[38;5;28mself\u001b[39m\u001b[38;5;241m.\u001b[39m_store_nodes_override \u001b[38;5;241m=\u001b[39m store_nodes_override\n\u001b[0;32m     69\u001b[0m \u001b[38;5;28mself\u001b[39m\u001b[38;5;241m.\u001b[39m_embed_model \u001b[38;5;241m=\u001b[39m (\n\u001b[0;32m     70\u001b[0m     resolve_embed_model(embed_model, callback_manager\u001b[38;5;241m=\u001b[39mcallback_manager)\n\u001b[0;32m     71\u001b[0m     \u001b[38;5;28;01mif\u001b[39;00m embed_model\n\u001b[1;32m---> 72\u001b[0m     \u001b[38;5;28;01melse\u001b[39;00m \u001b[43mSettings\u001b[49m\u001b[38;5;241;43m.\u001b[39;49m\u001b[43membed_model\u001b[49m\n\u001b[0;32m     73\u001b[0m )\n\u001b[0;32m     75\u001b[0m \u001b[38;5;28mself\u001b[39m\u001b[38;5;241m.\u001b[39m_insert_batch_size \u001b[38;5;241m=\u001b[39m insert_batch_size\n\u001b[0;32m     76\u001b[0m \u001b[38;5;28msuper\u001b[39m()\u001b[38;5;241m.\u001b[39m\u001b[38;5;21m__init__\u001b[39m(\n\u001b[0;32m     77\u001b[0m     nodes\u001b[38;5;241m=\u001b[39mnodes,\n\u001b[0;32m     78\u001b[0m     index_struct\u001b[38;5;241m=\u001b[39mindex_struct,\n\u001b[1;32m   (...)\u001b[0m\n\u001b[0;32m     84\u001b[0m     \u001b[38;5;241m*\u001b[39m\u001b[38;5;241m*\u001b[39mkwargs,\n\u001b[0;32m     85\u001b[0m )\n",
      "File \u001b[1;32m~\\AppData\\Local\\Packages\\PythonSoftwareFoundation.Python.3.11_qbz5n2kfra8p0\\LocalCache\\local-packages\\Python311\\site-packages\\llama_index\\core\\settings.py:64\u001b[0m, in \u001b[0;36m_Settings.embed_model\u001b[1;34m(self)\u001b[0m\n\u001b[0;32m     62\u001b[0m \u001b[38;5;250m\u001b[39m\u001b[38;5;124;03m\"\"\"Get the embedding model.\"\"\"\u001b[39;00m\n\u001b[0;32m     63\u001b[0m \u001b[38;5;28;01mif\u001b[39;00m \u001b[38;5;28mself\u001b[39m\u001b[38;5;241m.\u001b[39m_embed_model \u001b[38;5;129;01mis\u001b[39;00m \u001b[38;5;28;01mNone\u001b[39;00m:\n\u001b[1;32m---> 64\u001b[0m     \u001b[38;5;28mself\u001b[39m\u001b[38;5;241m.\u001b[39m_embed_model \u001b[38;5;241m=\u001b[39m \u001b[43mresolve_embed_model\u001b[49m\u001b[43m(\u001b[49m\u001b[38;5;124;43m\"\u001b[39;49m\u001b[38;5;124;43mdefault\u001b[39;49m\u001b[38;5;124;43m\"\u001b[39;49m\u001b[43m)\u001b[49m\n\u001b[0;32m     66\u001b[0m \u001b[38;5;28;01mif\u001b[39;00m \u001b[38;5;28mself\u001b[39m\u001b[38;5;241m.\u001b[39m_callback_manager \u001b[38;5;129;01mis\u001b[39;00m \u001b[38;5;129;01mnot\u001b[39;00m \u001b[38;5;28;01mNone\u001b[39;00m:\n\u001b[0;32m     67\u001b[0m     \u001b[38;5;28mself\u001b[39m\u001b[38;5;241m.\u001b[39m_embed_model\u001b[38;5;241m.\u001b[39mcallback_manager \u001b[38;5;241m=\u001b[39m \u001b[38;5;28mself\u001b[39m\u001b[38;5;241m.\u001b[39m_callback_manager\n",
      "File \u001b[1;32m~\\AppData\\Local\\Packages\\PythonSoftwareFoundation.Python.3.11_qbz5n2kfra8p0\\LocalCache\\local-packages\\Python311\\site-packages\\llama_index\\core\\embeddings\\utils.py:66\u001b[0m, in \u001b[0;36mresolve_embed_model\u001b[1;34m(embed_model, callback_manager)\u001b[0m\n\u001b[0;32m     61\u001b[0m         \u001b[38;5;28;01mraise\u001b[39;00m \u001b[38;5;167;01mImportError\u001b[39;00m(\n\u001b[0;32m     62\u001b[0m             \u001b[38;5;124m\"\u001b[39m\u001b[38;5;124m`llama-index-embeddings-openai` package not found, \u001b[39m\u001b[38;5;124m\"\u001b[39m\n\u001b[0;32m     63\u001b[0m             \u001b[38;5;124m\"\u001b[39m\u001b[38;5;124mplease run `pip install llama-index-embeddings-openai`\u001b[39m\u001b[38;5;124m\"\u001b[39m\n\u001b[0;32m     64\u001b[0m         )\n\u001b[0;32m     65\u001b[0m     \u001b[38;5;28;01mexcept\u001b[39;00m \u001b[38;5;167;01mValueError\u001b[39;00m \u001b[38;5;28;01mas\u001b[39;00m e:\n\u001b[1;32m---> 66\u001b[0m         \u001b[38;5;28;01mraise\u001b[39;00m \u001b[38;5;167;01mValueError\u001b[39;00m(\n\u001b[0;32m     67\u001b[0m             \u001b[38;5;124m\"\u001b[39m\u001b[38;5;130;01m\\n\u001b[39;00m\u001b[38;5;124m******\u001b[39m\u001b[38;5;130;01m\\n\u001b[39;00m\u001b[38;5;124m\"\u001b[39m\n\u001b[0;32m     68\u001b[0m             \u001b[38;5;124m\"\u001b[39m\u001b[38;5;124mCould not load OpenAI embedding model. \u001b[39m\u001b[38;5;124m\"\u001b[39m\n\u001b[0;32m     69\u001b[0m             \u001b[38;5;124m\"\u001b[39m\u001b[38;5;124mIf you intended to use OpenAI, please check your OPENAI_API_KEY.\u001b[39m\u001b[38;5;130;01m\\n\u001b[39;00m\u001b[38;5;124m\"\u001b[39m\n\u001b[0;32m     70\u001b[0m             \u001b[38;5;124m\"\u001b[39m\u001b[38;5;124mOriginal error:\u001b[39m\u001b[38;5;130;01m\\n\u001b[39;00m\u001b[38;5;124m\"\u001b[39m\n\u001b[0;32m     71\u001b[0m             \u001b[38;5;124mf\u001b[39m\u001b[38;5;124m\"\u001b[39m\u001b[38;5;132;01m{\u001b[39;00me\u001b[38;5;132;01m!s}\u001b[39;00m\u001b[38;5;124m\"\u001b[39m\n\u001b[0;32m     72\u001b[0m             \u001b[38;5;124m\"\u001b[39m\u001b[38;5;130;01m\\n\u001b[39;00m\u001b[38;5;124mConsider using embed_model=\u001b[39m\u001b[38;5;124m'\u001b[39m\u001b[38;5;124mlocal\u001b[39m\u001b[38;5;124m'\u001b[39m\u001b[38;5;124m.\u001b[39m\u001b[38;5;130;01m\\n\u001b[39;00m\u001b[38;5;124m\"\u001b[39m\n\u001b[0;32m     73\u001b[0m             \u001b[38;5;124m\"\u001b[39m\u001b[38;5;124mVisit our documentation for more embedding options: \u001b[39m\u001b[38;5;124m\"\u001b[39m\n\u001b[0;32m     74\u001b[0m             \u001b[38;5;124m\"\u001b[39m\u001b[38;5;124mhttps://docs.llamaindex.ai/en/stable/module_guides/models/\u001b[39m\u001b[38;5;124m\"\u001b[39m\n\u001b[0;32m     75\u001b[0m             \u001b[38;5;124m\"\u001b[39m\u001b[38;5;124membeddings.html#modules\u001b[39m\u001b[38;5;124m\"\u001b[39m\n\u001b[0;32m     76\u001b[0m             \u001b[38;5;124m\"\u001b[39m\u001b[38;5;130;01m\\n\u001b[39;00m\u001b[38;5;124m******\u001b[39m\u001b[38;5;124m\"\u001b[39m\n\u001b[0;32m     77\u001b[0m         )\n\u001b[0;32m     78\u001b[0m \u001b[38;5;66;03m# for image multi-modal embeddings\u001b[39;00m\n\u001b[0;32m     79\u001b[0m \u001b[38;5;28;01melif\u001b[39;00m \u001b[38;5;28misinstance\u001b[39m(embed_model, \u001b[38;5;28mstr\u001b[39m) \u001b[38;5;129;01mand\u001b[39;00m embed_model\u001b[38;5;241m.\u001b[39mstartswith(\u001b[38;5;124m\"\u001b[39m\u001b[38;5;124mclip\u001b[39m\u001b[38;5;124m\"\u001b[39m):\n",
      "\u001b[1;31mValueError\u001b[0m: \n******\nCould not load OpenAI embedding model. If you intended to use OpenAI, please check your OPENAI_API_KEY.\nOriginal error:\nNo API key found for OpenAI.\nPlease set either the OPENAI_API_KEY environment variable or openai.api_key prior to initialization.\nAPI keys can be found or created at https://platform.openai.com/account/api-keys\n\nConsider using embed_model='local'.\nVisit our documentation for more embedding options: https://docs.llamaindex.ai/en/stable/module_guides/models/embeddings.html#modules\n******"
     ]
    }
   ],
   "source": [
    "index = VectorStoreIndex.from_documents(\n",
    "    documents,\n",
    ")"
   ]
  },
  {
   "cell_type": "code",
   "execution_count": 2,
   "metadata": {},
   "outputs": [],
   "source": [
    "file_path = './sample-test/upload.py'"
   ]
  },
  {
   "cell_type": "code",
   "execution_count": 3,
   "metadata": {},
   "outputs": [],
   "source": [
    "file = open(file_path)"
   ]
  },
  {
   "cell_type": "code",
   "execution_count": 4,
   "metadata": {},
   "outputs": [],
   "source": [
    "text = file.read()"
   ]
  },
  {
   "cell_type": "code",
   "execution_count": null,
   "metadata": {},
   "outputs": [
    {
     "name": "stderr",
     "output_type": "stream",
     "text": [
      "C:\\Users\\bmp67\\AppData\\Local\\Packages\\PythonSoftwareFoundation.Python.3.11_qbz5n2kfra8p0\\LocalCache\\local-packages\\Python311\\site-packages\\huggingface_hub\\file_download.py:139: UserWarning: `huggingface_hub` cache-system uses symlinks by default to efficiently store duplicated files but your machine does not support them in C:\\Users\\bmp67\\AppData\\Local\\Packages\\PythonSoftwareFoundation.Python.3.11_qbz5n2kfra8p0\\LocalCache\\Local\\llama_index\\models--BAAI--bge-small-en. Caching files will still work but in a degraded version that might require more space on your disk. This warning can be disabled by setting the `HF_HUB_DISABLE_SYMLINKS_WARNING` environment variable. For more details, see https://huggingface.co/docs/huggingface_hub/how-to-cache#limitations.\n",
      "To support symlinks on Windows, you either need to activate Developer Mode or to run Python as an administrator. In order to activate developer mode, see this article: https://docs.microsoft.com/en-us/windows/apps/get-started/enable-your-device-for-development\n",
      "  warnings.warn(message)\n"
     ]
    }
   ],
   "source": [
    "parser = SentenceSplitter()\n",
    "embedding_model = huggingface.HuggingFaceEmbedding()"
   ]
  },
  {
   "cell_type": "code",
   "execution_count": null,
   "metadata": {},
   "outputs": [
    {
     "ename": "AttributeError",
     "evalue": "'str' object has no attribute 'get_content'",
     "output_type": "error",
     "traceback": [
      "\u001b[1;31m---------------------------------------------------------------------------\u001b[0m",
      "\u001b[1;31mAttributeError\u001b[0m                            Traceback (most recent call last)",
      "Cell \u001b[1;32mIn[9], line 1\u001b[0m\n\u001b[1;32m----> 1\u001b[0m \u001b[43membedding_model\u001b[49m\u001b[43m(\u001b[49m\u001b[43mtext\u001b[49m\u001b[43m)\u001b[49m\n",
      "File \u001b[1;32m~\\AppData\\Local\\Packages\\PythonSoftwareFoundation.Python.3.11_qbz5n2kfra8p0\\LocalCache\\local-packages\\Python311\\site-packages\\llama_index\\core\\instrumentation\\dispatcher.py:321\u001b[0m, in \u001b[0;36mDispatcher.span.<locals>.wrapper\u001b[1;34m(func, instance, args, kwargs)\u001b[0m\n\u001b[0;32m    318\u001b[0m             _logger\u001b[38;5;241m.\u001b[39mdebug(\u001b[38;5;124mf\u001b[39m\u001b[38;5;124m\"\u001b[39m\u001b[38;5;124mFailed to reset active_span_id: \u001b[39m\u001b[38;5;132;01m{\u001b[39;00me\u001b[38;5;132;01m}\u001b[39;00m\u001b[38;5;124m\"\u001b[39m)\n\u001b[0;32m    320\u001b[0m \u001b[38;5;28;01mtry\u001b[39;00m:\n\u001b[1;32m--> 321\u001b[0m     result \u001b[38;5;241m=\u001b[39m \u001b[43mfunc\u001b[49m\u001b[43m(\u001b[49m\u001b[38;5;241;43m*\u001b[39;49m\u001b[43margs\u001b[49m\u001b[43m,\u001b[49m\u001b[43m \u001b[49m\u001b[38;5;241;43m*\u001b[39;49m\u001b[38;5;241;43m*\u001b[39;49m\u001b[43mkwargs\u001b[49m\u001b[43m)\u001b[49m\n\u001b[0;32m    322\u001b[0m     \u001b[38;5;28;01mif\u001b[39;00m \u001b[38;5;28misinstance\u001b[39m(result, asyncio\u001b[38;5;241m.\u001b[39mFuture):\n\u001b[0;32m    323\u001b[0m         \u001b[38;5;66;03m# If the result is a Future, wrap it\u001b[39;00m\n\u001b[0;32m    324\u001b[0m         new_future \u001b[38;5;241m=\u001b[39m asyncio\u001b[38;5;241m.\u001b[39mensure_future(result)\n",
      "File \u001b[1;32m~\\AppData\\Local\\Packages\\PythonSoftwareFoundation.Python.3.11_qbz5n2kfra8p0\\LocalCache\\local-packages\\Python311\\site-packages\\llama_index\\core\\base\\embeddings\\base.py:444\u001b[0m, in \u001b[0;36mBaseEmbedding.__call__\u001b[1;34m(self, nodes, **kwargs)\u001b[0m\n\u001b[0;32m    442\u001b[0m \u001b[38;5;28;01mdef\u001b[39;00m \u001b[38;5;21m__call__\u001b[39m(\u001b[38;5;28mself\u001b[39m, nodes: Sequence[BaseNode], \u001b[38;5;241m*\u001b[39m\u001b[38;5;241m*\u001b[39mkwargs: Any) \u001b[38;5;241m-\u001b[39m\u001b[38;5;241m>\u001b[39m Sequence[BaseNode]:\n\u001b[0;32m    443\u001b[0m     embeddings \u001b[38;5;241m=\u001b[39m \u001b[38;5;28mself\u001b[39m\u001b[38;5;241m.\u001b[39mget_text_embedding_batch(\n\u001b[1;32m--> 444\u001b[0m         \u001b[43m[\u001b[49m\u001b[43mnode\u001b[49m\u001b[38;5;241;43m.\u001b[39;49m\u001b[43mget_content\u001b[49m\u001b[43m(\u001b[49m\u001b[43mmetadata_mode\u001b[49m\u001b[38;5;241;43m=\u001b[39;49m\u001b[43mMetadataMode\u001b[49m\u001b[38;5;241;43m.\u001b[39;49m\u001b[43mEMBED\u001b[49m\u001b[43m)\u001b[49m\u001b[43m \u001b[49m\u001b[38;5;28;43;01mfor\u001b[39;49;00m\u001b[43m \u001b[49m\u001b[43mnode\u001b[49m\u001b[43m \u001b[49m\u001b[38;5;129;43;01min\u001b[39;49;00m\u001b[43m \u001b[49m\u001b[43mnodes\u001b[49m\u001b[43m]\u001b[49m,\n\u001b[0;32m    445\u001b[0m         \u001b[38;5;241m*\u001b[39m\u001b[38;5;241m*\u001b[39mkwargs,\n\u001b[0;32m    446\u001b[0m     )\n\u001b[0;32m    448\u001b[0m     \u001b[38;5;28;01mfor\u001b[39;00m node, embedding \u001b[38;5;129;01min\u001b[39;00m \u001b[38;5;28mzip\u001b[39m(nodes, embeddings):\n\u001b[0;32m    449\u001b[0m         node\u001b[38;5;241m.\u001b[39membedding \u001b[38;5;241m=\u001b[39m embedding\n",
      "File \u001b[1;32m~\\AppData\\Local\\Packages\\PythonSoftwareFoundation.Python.3.11_qbz5n2kfra8p0\\LocalCache\\local-packages\\Python311\\site-packages\\llama_index\\core\\base\\embeddings\\base.py:444\u001b[0m, in \u001b[0;36m<listcomp>\u001b[1;34m(.0)\u001b[0m\n\u001b[0;32m    442\u001b[0m \u001b[38;5;28;01mdef\u001b[39;00m \u001b[38;5;21m__call__\u001b[39m(\u001b[38;5;28mself\u001b[39m, nodes: Sequence[BaseNode], \u001b[38;5;241m*\u001b[39m\u001b[38;5;241m*\u001b[39mkwargs: Any) \u001b[38;5;241m-\u001b[39m\u001b[38;5;241m>\u001b[39m Sequence[BaseNode]:\n\u001b[0;32m    443\u001b[0m     embeddings \u001b[38;5;241m=\u001b[39m \u001b[38;5;28mself\u001b[39m\u001b[38;5;241m.\u001b[39mget_text_embedding_batch(\n\u001b[1;32m--> 444\u001b[0m         [\u001b[43mnode\u001b[49m\u001b[38;5;241;43m.\u001b[39;49m\u001b[43mget_content\u001b[49m(metadata_mode\u001b[38;5;241m=\u001b[39mMetadataMode\u001b[38;5;241m.\u001b[39mEMBED) \u001b[38;5;28;01mfor\u001b[39;00m node \u001b[38;5;129;01min\u001b[39;00m nodes],\n\u001b[0;32m    445\u001b[0m         \u001b[38;5;241m*\u001b[39m\u001b[38;5;241m*\u001b[39mkwargs,\n\u001b[0;32m    446\u001b[0m     )\n\u001b[0;32m    448\u001b[0m     \u001b[38;5;28;01mfor\u001b[39;00m node, embedding \u001b[38;5;129;01min\u001b[39;00m \u001b[38;5;28mzip\u001b[39m(nodes, embeddings):\n\u001b[0;32m    449\u001b[0m         node\u001b[38;5;241m.\u001b[39membedding \u001b[38;5;241m=\u001b[39m embedding\n",
      "\u001b[1;31mAttributeError\u001b[0m: 'str' object has no attribute 'get_content'"
     ]
    }
   ],
   "source": [
    "embedding_model."
   ]
  },
  {
   "cell_type": "code",
   "execution_count": 5,
   "metadata": {},
   "outputs": [
    {
     "data": {
      "text/plain": [
       "'#!/usr/bin/python2.7\\t\\n# encoding: UTF-8\\n\\n\"\"\"\\nThis file is part of NodeXP, a detection & exploitation tool for \\nnode.js services (https://github.com/esmog/nodexp) created by \\nAntonaropoulos Dimitrios (@esmog).\\nFor more info about NodeXP see the \\'README.md\\' file.\\n\"\"\"\\n\\nimport src.core.init.settings as settings\\nimport src.interfaces.options.verbosity as verbosity\\nfrom colorama import Fore, Back, Style, init\\nfrom time import sleep\\n\\ndef read_file():\\n\\t# Read payload and put it on a global variable..\\n\\ttry:\\n\\t\\twith open(settings.payload_path, \\'r\\') as myfile:\\n    \\t\\t\\tsettings.payload = myfile.read()\\n\\t\\t\\treturn True\\n\\texcept Exception as e:\\n\\t\\tprint(Fore.RED + \"[!] ERROR: %s\" %e)\\n\\t\\tverbosity.error_info(e)\\n\\t\\treturn False\\n\\ndef read_spool():\\n\\t# Read spool file untill metasploit session made..\\t\\t\\n\\t# keyword = False\\n\\ttry:\\n\\t\\tcounter = 0\\n\\t\\twith open(settings.spool_file, \\'r\\') as spool:\\n\\t\\t\\tmessage = Fore.YELLOW + \"\\\\n[i] Waiting for Metasploit to be ready!\"\\n\\t\\t\\tverbosity.print_message(message, settings.print_info)\\n\\n\\t\\t\\t# Bind shell case ...\\n\\t\\t\\tif settings.msf_payload == settings.msf_payload_bind:\\n\\t\\t\\t\\twhile not \\'Started bind TCP handler against %s:%s\\' % (settings.rhost, settings.lport) in spool.read():\\n\\t\\t\\t\\t\\tspool.seek(0,0)\\n\\t\\t\\t\\t\\tmessage = Fore.YELLOW + \"...\"\\n\\t\\t\\t\\t\\tverbosity.print_message(message, settings.print_info)\\n\\t\\t\\t\\t\\tsleep(5)\\n\\t\\t\\t\\t\\tcounter += 1\\n\\t\\t\\t\\t\\tif counter > 10:\\n\\t\\t\\t\\t\\t\\texit(Fore.RED + \"[!] ERROR: Waiting for connection response timeout. The given IP address might be wrong. Check the metasploit terminal window (msfconsole) for possible errors.\")\\n\\t\\t\\t\\treturn True\\n\\n\\t\\t\\t# Reverse shell case ...\\n\\t\\t\\telif settings.msf_payload == settings.msf_payload_reverse:\\n\\t\\t\\t\\twhile not \\'Started reverse TCP handler on %s:%s\\' % (settings.lhost, settings.lport) in spool.read():\\n\\t\\t\\t\\t\\tspool.seek(0, 0)\\n\\t\\t\\t\\t\\tmessage = Fore.YELLOW + \"...\"\\n\\t\\t\\t\\t\\tverbosity.print_message(message, settings.print_info)\\n\\t\\t\\t\\t\\tsleep(5)\\n\\t\\t\\t\\t\\tcounter += 1\\n\\t\\t\\t\\t\\tif counter > 10:\\n\\t\\t\\t\\t\\t\\texit(Fore.RED + \"[!] ERROR: Waiting for connection response timeout. The given IP address might be wrong. Check the metasploit terminal window (msfconsole) for possible errors.\")\\n\\t\\t\\t\\tprint(Fore.GREEN + \"[i] Metasploit is ready!\\\\n\" + Fore.YELLOW + \"[i] Waiting for payload to be uploaded..\")\\n\\t\\t\\t\\treturn True\\n\\n\\t\\t\\t# Reverse ssl shell case ...\\n\\t\\t\\telse:\\n\\t\\t\\t\\twhile not \\'Started reverse SSL handler on %s:%s\\' % (settings.lhost, settings.lport) in spool.read():\\n\\t\\t\\t\\t\\tspool.seek(0, 0)\\n\\t\\t\\t\\t\\tmessage = Fore.YELLOW + \"...\"\\n\\t\\t\\t\\t\\tverbosity.print_message(message, settings.print_info)\\n\\t\\t\\t\\t\\tsleep(5)\\n\\t\\t\\t\\t\\tcounter += 1\\n\\t\\t\\t\\t\\tif counter > 10:\\n\\t\\t\\t\\t\\t\\texit(Fore.RED + \"[!] ERROR: Waiting for connection response timeout. The given IP address might be wrong. Check the metasploit terminal window (msfconsole) for possible errors.\")\\n\\t\\t\\t\\tprint(Fore.GREEN + \"[i] Metasploit is ready!\\\\n\" + Fore.YELLOW + \"[i] Waiting for payload to be uploaded..\")\\n\\t\\t\\t\\treturn True\\n\\n\\n\\texcept Exception as e:\\n\\t\\tprint(Fore.RED + \"[!] ERROR: %s\" %e)\\n\\t\\tverbosity.error_info(e)\\n\\t\\treturn False\\n\\n'"
      ]
     },
     "execution_count": 5,
     "metadata": {},
     "output_type": "execute_result"
    }
   ],
   "source": [
    "text"
   ]
  },
  {
   "cell_type": "code",
   "execution_count": null,
   "metadata": {},
   "outputs": [],
   "source": []
  }
 ],
 "metadata": {
  "kernelspec": {
   "display_name": "Python 3",
   "language": "python",
   "name": "python3"
  },
  "language_info": {
   "codemirror_mode": {
    "name": "ipython",
    "version": 3
   },
   "file_extension": ".py",
   "mimetype": "text/x-python",
   "name": "python",
   "nbconvert_exporter": "python",
   "pygments_lexer": "ipython3",
   "version": "3.11.9"
  }
 },
 "nbformat": 4,
 "nbformat_minor": 2
}
